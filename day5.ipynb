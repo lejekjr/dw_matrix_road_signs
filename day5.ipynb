{
  "nbformat": 4,
  "nbformat_minor": 0,
  "metadata": {
    "colab": {
      "name": "day5.ipynb",
      "provenance": [],
      "collapsed_sections": [],
      "mount_file_id": "1ofmyHoOOiLJpdxdV4KzpVA-jwRtQwdBO",
      "authorship_tag": "ABX9TyMiHRa/ecHB+noydZqQRgRb"
    },
    "kernelspec": {
      "name": "python3",
      "display_name": "Python 3"
    },
    "accelerator": "GPU"
  },
  "cells": [
    {
      "cell_type": "code",
      "metadata": {
        "id": "ZHzU1ys41TJD",
        "colab_type": "code",
        "colab": {
          "base_uri": "https://localhost:8080/",
          "height": 190
        },
        "outputId": "f7fcb4f3-b676-4e22-b0ec-ba45b8ca7e13"
      },
      "source": [
        "!pip install hyperopt"
      ],
      "execution_count": 5,
      "outputs": [
        {
          "output_type": "stream",
          "text": [
            "Requirement already satisfied: hyperopt in /usr/local/lib/python3.6/dist-packages (0.1.2)\n",
            "Requirement already satisfied: tqdm in /usr/local/lib/python3.6/dist-packages (from hyperopt) (4.38.0)\n",
            "Requirement already satisfied: future in /usr/local/lib/python3.6/dist-packages (from hyperopt) (0.16.0)\n",
            "Requirement already satisfied: numpy in /usr/local/lib/python3.6/dist-packages (from hyperopt) (1.18.2)\n",
            "Requirement already satisfied: networkx in /usr/local/lib/python3.6/dist-packages (from hyperopt) (2.4)\n",
            "Requirement already satisfied: scipy in /usr/local/lib/python3.6/dist-packages (from hyperopt) (1.4.1)\n",
            "Requirement already satisfied: six in /usr/local/lib/python3.6/dist-packages (from hyperopt) (1.12.0)\n",
            "Requirement already satisfied: pymongo in /usr/local/lib/python3.6/dist-packages (from hyperopt) (3.10.1)\n",
            "Requirement already satisfied: decorator>=4.3.0 in /usr/local/lib/python3.6/dist-packages (from networkx->hyperopt) (4.4.2)\n"
          ],
          "name": "stdout"
        }
      ]
    },
    {
      "cell_type": "code",
      "metadata": {
        "id": "2v-aUGbD13nT",
        "colab_type": "code",
        "colab": {
          "base_uri": "https://localhost:8080/",
          "height": 51
        },
        "outputId": "cb1633f4-9a4d-4b3b-942c-09d912ed2321"
      },
      "source": [
        "import pandas as pd\n",
        "import numpy as np\n",
        "import os\n",
        "import datetime\n",
        "\n",
        "import tensorflow as tf\n",
        "from tensorflow.keras.models import Sequential\n",
        "from tensorflow.keras.layers import Conv2D, MaxPool2D, Dense, Flatten, Dropout\n",
        "from tensorflow.keras.utils import to_categorical\n",
        "\n",
        "%load_ext tensorboard\n",
        "\n",
        "import matplotlib.pyplot as plt\n",
        "from skimage import color, exposure\n",
        "\n",
        "from sklearn.metrics import accuracy_score\n",
        "\n",
        "from hyperopt import hp, STATUS_OK, tpe, Trials, fmin"
      ],
      "execution_count": 14,
      "outputs": [
        {
          "output_type": "stream",
          "text": [
            "The tensorboard extension is already loaded. To reload it, use:\n",
            "  %reload_ext tensorboard\n"
          ],
          "name": "stdout"
        }
      ]
    },
    {
      "cell_type": "code",
      "metadata": {
        "id": "81CY1zm02kfI",
        "colab_type": "code",
        "colab": {
          "base_uri": "https://localhost:8080/",
          "height": 34
        },
        "outputId": "9bc3bee6-a104-40da-bbda-b464111b30b6"
      },
      "source": [
        "cd '/content/drive/My Drive/Colab Notebooks/matrix/matrix_three/dw_matrix_road_signs'"
      ],
      "execution_count": 7,
      "outputs": [
        {
          "output_type": "stream",
          "text": [
            "/content/drive/My Drive/Colab Notebooks/matrix/matrix_three/dw_matrix_road_signs\n"
          ],
          "name": "stdout"
        }
      ]
    },
    {
      "cell_type": "code",
      "metadata": {
        "id": "6ROz1rRQ2rSa",
        "colab_type": "code",
        "colab": {}
      },
      "source": [
        "train = pd.read_pickle('data/train.p')\n",
        "test = pd.read_pickle('data/test.p')\n",
        "\n",
        "X_train, y_train = train['features'], train['labels']\n",
        "X_test, y_test = test['features'], test['labels']"
      ],
      "execution_count": 0,
      "outputs": []
    },
    {
      "cell_type": "code",
      "metadata": {
        "id": "fPq1PXgs2u_a",
        "colab_type": "code",
        "colab": {}
      },
      "source": [
        "if y_train.ndim == 1: y_train = to_categorical(y_train)\n",
        "if y_test.ndim == 1: y_test = to_categorical(y_test)\n",
        "\n",
        "input_shape = X_train.shape[1:]\n",
        "num_classes = y_train.shape[1]"
      ],
      "execution_count": 0,
      "outputs": []
    },
    {
      "cell_type": "code",
      "metadata": {
        "id": "Kl799UCD252H",
        "colab_type": "code",
        "colab": {}
      },
      "source": [
        "def train_model(model, X_train, y_train, params_fit={}):\n",
        "  model.compile(loss='categorical_crossentropy', optimizer='Adam', metrics=['accuracy'])\n",
        "\n",
        "  logdir = os.path.join(\"logs\", datetime.datetime.now().strftime(\"%Y%m%d-%H%M%S\"))\n",
        "  tensorboard_callback = tf.keras.callbacks.TensorBoard(logdir, histogram_freq=1)\n",
        "\n",
        "  model.fit(\n",
        "      X_train, \n",
        "      y_train,\n",
        "      batch_size=params_fit.get('batch_size', 128),\n",
        "      epochs=params_fit.get('epochs', 5),\n",
        "      verbose = params_fit.get('verbose', 1),\n",
        "      validation_data=params_fit.get('validation_data', (X_train, y_train)),\n",
        "      callbacks= [tensorboard_callback]\n",
        "      \n",
        "  )\n",
        "\n",
        "  return model\n",
        "\n",
        "\n",
        "def predict(model_trained, X_test, y_test, scoring = accuracy_score):\n",
        "  y_test_norm = np.argmax(y_test, axis=1)\n",
        "\n",
        "  y_pred_prob = model_trained.predict(X_test)\n",
        "  y_pred = np.argmax(y_pred_prob, axis=1)\n",
        "\n",
        "  return scoring(y_test_norm, y_pred)"
      ],
      "execution_count": 0,
      "outputs": []
    },
    {
      "cell_type": "code",
      "metadata": {
        "id": "k8EB62Ab3fbd",
        "colab_type": "code",
        "colab": {}
      },
      "source": [
        "def get_cnn_v5(input_shape, num_classes):\n",
        "  return Sequential([\n",
        "    Conv2D(filters=32, kernel_size=(3,3), activation='relu', input_shape = input_shape),\n",
        "    Conv2D(filters=32, kernel_size=(3,3), activation='relu'),\n",
        "    MaxPool2D(),\n",
        "    Dropout(0.3),\n",
        "\n",
        "    Conv2D(filters=64, kernel_size=(3,3), activation='relu', padding='same'),\n",
        "    Conv2D(filters=64, kernel_size=(3,3), activation='relu'),\n",
        "    MaxPool2D(),\n",
        "    Dropout(0.3),\n",
        "\n",
        "    Conv2D(filters=64, kernel_size=(3,3), activation='relu', padding='same'),\n",
        "    Conv2D(filters=64, kernel_size=(3,3), activation='relu'),\n",
        "    MaxPool2D(),\n",
        "    Dropout(0.3),\n",
        "\n",
        "    Flatten(),\n",
        "\n",
        "    Dense(1024, activation='relu'),\n",
        "    Dropout(0.3),\n",
        "\n",
        "    Dense(1024, activation='relu'),\n",
        "    Dropout(0.3),\n",
        "\n",
        "    Dense(num_classes, activation='softmax')\n",
        "    ])\n",
        "\n",
        "#get_cnn_v5(input_shape, num_classes).summary()"
      ],
      "execution_count": 0,
      "outputs": []
    },
    {
      "cell_type": "code",
      "metadata": {
        "id": "pQFohbJh5IT_",
        "colab_type": "code",
        "colab": {
          "base_uri": "https://localhost:8080/",
          "height": 224
        },
        "outputId": "31114c9b-9075-4a87-ffa3-4ad7fd5395f8"
      },
      "source": [
        "model = get_cnn_v5(input_shape, num_classes)\n",
        "model_trained = train_model(model, X_train, y_train)\n",
        "predict(model_trained, X_test, y_test)"
      ],
      "execution_count": 19,
      "outputs": [
        {
          "output_type": "stream",
          "text": [
            "Epoch 1/5\n",
            "272/272 [==============================] - 5s 18ms/step - loss: 2.5547 - accuracy: 0.3017 - val_loss: 0.9808 - val_accuracy: 0.6766\n",
            "Epoch 2/5\n",
            "272/272 [==============================] - 4s 16ms/step - loss: 0.8133 - accuracy: 0.7463 - val_loss: 0.1854 - val_accuracy: 0.9501\n",
            "Epoch 3/5\n",
            "272/272 [==============================] - 5s 17ms/step - loss: 0.3887 - accuracy: 0.8832 - val_loss: 0.0910 - val_accuracy: 0.9745\n",
            "Epoch 4/5\n",
            "272/272 [==============================] - 5s 17ms/step - loss: 0.2511 - accuracy: 0.9241 - val_loss: 0.0785 - val_accuracy: 0.9764\n",
            "Epoch 5/5\n",
            "272/272 [==============================] - 5s 17ms/step - loss: 0.1909 - accuracy: 0.9430 - val_loss: 0.0324 - val_accuracy: 0.9909\n"
          ],
          "name": "stdout"
        },
        {
          "output_type": "execute_result",
          "data": {
            "text/plain": [
              "0.9798185941043084"
            ]
          },
          "metadata": {
            "tags": []
          },
          "execution_count": 19
        }
      ]
    },
    {
      "cell_type": "code",
      "metadata": {
        "id": "3-1a8R1lYkiM",
        "colab_type": "code",
        "colab": {}
      },
      "source": [
        "def get_model(params):\n",
        "  return Sequential([\n",
        "    Conv2D(filters=32, kernel_size=(3,3), activation='relu', input_shape = input_shape),\n",
        "    Conv2D(filters=32, kernel_size=(3,3), activation='relu', padding='same'),\n",
        "    MaxPool2D(),\n",
        "    Dropout(params['dropout_cnn_block_one']),\n",
        "\n",
        "    Conv2D(filters=64, kernel_size=(3,3), activation='relu', padding='same'),\n",
        "    Conv2D(filters=64, kernel_size=(3,3), activation='relu'),\n",
        "    MaxPool2D(),\n",
        "    Dropout(params['dropout_cnn_block_two']),\n",
        "\n",
        "    Conv2D(filters=128, kernel_size=(3,3), activation='relu', padding='same'),\n",
        "    Conv2D(filters=128, kernel_size=(3,3), activation='relu'),\n",
        "    MaxPool2D(),\n",
        "    Dropout(params['dropout_cnn_block_three']),\n",
        "\n",
        "    Flatten(),\n",
        "\n",
        "    Dense(1024, activation='relu'),\n",
        "    Dropout(params['dropout_dense_block_one']),\n",
        "\n",
        "    Dense(1024, activation='relu'),\n",
        "    Dropout(params['dropout_dense_block_two']),\n",
        "\n",
        "    Dense(num_classes, activation='softmax')\n",
        "    ])"
      ],
      "execution_count": 0,
      "outputs": []
    },
    {
      "cell_type": "code",
      "metadata": {
        "id": "h9rzXvzy5Is-",
        "colab_type": "code",
        "colab": {}
      },
      "source": [
        "def func_obj(params):\n",
        "  model = get_model(params)\n",
        "  model.compile(loss='categorical_crossentropy', optimizer='Adam', metrics=['accuracy'])\n",
        "\n",
        "  logdir = os.path.join(\"logs\", datetime.datetime.now().strftime(\"%Y%m%d-%H%M%S\"))\n",
        "  tensorboard_callback = tf.keras.callbacks.TensorBoard(logdir, histogram_freq=1)\n",
        "\n",
        "  model.fit(\n",
        "      X_train, \n",
        "      y_train,\n",
        "      batch_size=int(params.get('batch_size', 128)),\n",
        "      epochs=5,\n",
        "      verbose = 0\n",
        "      \n",
        "  )\n",
        "\n",
        "  score = model.evaluate(X_test, y_test, verbose=0)\n",
        "  accuracy = score[1]\n",
        "  print(params, 'accuracy={}'.format(accuracy))\n",
        "\n",
        "  return { 'loss': -accuracy, 'status':STATUS_OK, 'model': model}"
      ],
      "execution_count": 0,
      "outputs": []
    },
    {
      "cell_type": "code",
      "metadata": {
        "id": "gzkxqBZb5Iw4",
        "colab_type": "code",
        "colab": {
          "base_uri": "https://localhost:8080/",
          "height": 1000
        },
        "outputId": "05dadc41-e2df-4dc5-ffbc-7a407878fe5d"
      },
      "source": [
        "space = {\n",
        "    'batch_size': hp.quniform('batch_size', 100, 200, 10),\n",
        "    'dropout_cnn_block_one': hp.uniform('dropout_cnn_block_one', 0.3, 0.5),\n",
        "    'dropout_cnn_block_two': hp.uniform('dropout_cnn_block_two', 0.3, 0.5),\n",
        "    'dropout_cnn_block_three': hp.uniform('dropout_cnn_block_three', 0.3, 0.5),\n",
        "\n",
        "    'dropout_dense_block_one': hp.uniform('dropout_dense_block_one', 0.3, 0.7),\n",
        "    'dropout_dense_block_two': hp.uniform('dropout_dense_block_two', 0.3, 0.7),\n",
        "\n",
        "}\n",
        "\n",
        "best = fmin(\n",
        "    func_obj,\n",
        "    space,\n",
        "    tpe.suggest,\n",
        "    30,\n",
        "    Trials()\n",
        ")"
      ],
      "execution_count": 30,
      "outputs": [
        {
          "output_type": "stream",
          "text": [
            "{'batch_size': 120.0, 'dropout_cnn_block_one': 0.43843976678843866, 'dropout_cnn_block_three': 0.3984549461921778, 'dropout_cnn_block_two': 0.32645140383074656, 'dropout_dense_block_one': 0.4623469316490505, 'dropout_dense_block_two': 0.6425368029657524}\n",
            "accuracy=0.8929705023765564\n",
            "{'batch_size': 170.0, 'dropout_cnn_block_one': 0.37956066763097007, 'dropout_cnn_block_three': 0.47760832977725853, 'dropout_cnn_block_two': 0.4025118661998675, 'dropout_dense_block_one': 0.3193741213692274, 'dropout_dense_block_two': 0.60577966551673}\n",
            "accuracy=0.8922902345657349\n",
            "{'batch_size': 200.0, 'dropout_cnn_block_one': 0.37687549855584646, 'dropout_cnn_block_three': 0.32462780428322413, 'dropout_cnn_block_two': 0.31055599307428516, 'dropout_dense_block_one': 0.6481828574983849, 'dropout_dense_block_two': 0.3181777679522897}\n",
            "accuracy=0.9648526310920715\n",
            "{'batch_size': 120.0, 'dropout_cnn_block_one': 0.4637950147119597, 'dropout_cnn_block_three': 0.4122708597385227, 'dropout_cnn_block_two': 0.36329544330208463, 'dropout_dense_block_one': 0.6031064793682108, 'dropout_dense_block_two': 0.4441999108253102}\n",
            "accuracy=0.8997732400894165\n",
            "{'batch_size': 180.0, 'dropout_cnn_block_one': 0.36711706232769326, 'dropout_cnn_block_three': 0.48187805578459675, 'dropout_cnn_block_two': 0.4992467823841868, 'dropout_dense_block_one': 0.5629649442514876, 'dropout_dense_block_two': 0.505787866824972}\n",
            "accuracy=0.7394557595252991\n",
            "{'batch_size': 150.0, 'dropout_cnn_block_one': 0.46653872069814045, 'dropout_cnn_block_three': 0.3214924536509082, 'dropout_cnn_block_two': 0.31556362363705087, 'dropout_dense_block_one': 0.407335618506478, 'dropout_dense_block_two': 0.6527259885656258}\n",
            "accuracy=0.9095237851142883\n",
            "{'batch_size': 130.0, 'dropout_cnn_block_one': 0.36306603099961765, 'dropout_cnn_block_three': 0.3889985624662044, 'dropout_cnn_block_two': 0.42037512152597334, 'dropout_dense_block_one': 0.32276464859924464, 'dropout_dense_block_two': 0.48215764762349084}\n",
            "accuracy=0.9215419292449951\n",
            "{'batch_size': 100.0, 'dropout_cnn_block_one': 0.33494317873903207, 'dropout_cnn_block_three': 0.39815749724991495, 'dropout_cnn_block_two': 0.3125608516364225, 'dropout_dense_block_one': 0.6457400058916564, 'dropout_dense_block_two': 0.4761543422445501}\n",
            "accuracy=0.9512471556663513\n",
            "{'batch_size': 190.0, 'dropout_cnn_block_one': 0.4957421751098284, 'dropout_cnn_block_three': 0.42061010245926983, 'dropout_cnn_block_two': 0.3686308651665126, 'dropout_dense_block_one': 0.329509893977547, 'dropout_dense_block_two': 0.35726240232925166}\n",
            "accuracy=0.9303854703903198\n",
            "{'batch_size': 120.0, 'dropout_cnn_block_one': 0.35867358457009774, 'dropout_cnn_block_three': 0.4681951743477402, 'dropout_cnn_block_two': 0.31784436205138494, 'dropout_dense_block_one': 0.3202203852337167, 'dropout_dense_block_two': 0.43948243236787854}\n",
            "accuracy=0.961904764175415\n",
            "{'batch_size': 150.0, 'dropout_cnn_block_one': 0.44087540696603933, 'dropout_cnn_block_three': 0.47054025262590266, 'dropout_cnn_block_two': 0.3970488995193927, 'dropout_dense_block_one': 0.6380351978275505, 'dropout_dense_block_two': 0.3005232737815482}\n",
            "accuracy=0.864625871181488\n",
            "{'batch_size': 120.0, 'dropout_cnn_block_one': 0.35151205129466623, 'dropout_cnn_block_three': 0.38863419705434477, 'dropout_cnn_block_two': 0.4706385697934854, 'dropout_dense_block_one': 0.6603139242464466, 'dropout_dense_block_two': 0.5990951769056783}\n",
            "accuracy=0.8507936596870422\n",
            "{'batch_size': 140.0, 'dropout_cnn_block_one': 0.332199725019519, 'dropout_cnn_block_three': 0.4119100275915515, 'dropout_cnn_block_two': 0.3913492023994633, 'dropout_dense_block_one': 0.3787422746111058, 'dropout_dense_block_two': 0.6272971975047548}\n",
            "accuracy=0.9405895471572876\n",
            "{'batch_size': 180.0, 'dropout_cnn_block_one': 0.48894433516671953, 'dropout_cnn_block_three': 0.35956801741809336, 'dropout_cnn_block_two': 0.4916051802445096, 'dropout_dense_block_one': 0.46220869712213575, 'dropout_dense_block_two': 0.45417609027987854}\n",
            "accuracy=0.8839002251625061\n",
            "{'batch_size': 130.0, 'dropout_cnn_block_one': 0.4060371469196705, 'dropout_cnn_block_three': 0.42297007071875725, 'dropout_cnn_block_two': 0.3084379129356535, 'dropout_dense_block_one': 0.33500746726589004, 'dropout_dense_block_two': 0.4370479395218587}\n",
            "accuracy=0.9741496443748474\n",
            "{'batch_size': 140.0, 'dropout_cnn_block_one': 0.40248715164028825, 'dropout_cnn_block_three': 0.38404489786199214, 'dropout_cnn_block_two': 0.3267334149164208, 'dropout_dense_block_one': 0.30677228620471836, 'dropout_dense_block_two': 0.5995491961712711}\n",
            "accuracy=0.9471655488014221\n",
            "{'batch_size': 180.0, 'dropout_cnn_block_one': 0.4960207224149215, 'dropout_cnn_block_three': 0.3540320019164255, 'dropout_cnn_block_two': 0.4188664285895185, 'dropout_dense_block_one': 0.6314201289620115, 'dropout_dense_block_two': 0.6723622013820147}\n",
            "accuracy=0.6222222447395325\n",
            "{'batch_size': 150.0, 'dropout_cnn_block_one': 0.4526573478444289, 'dropout_cnn_block_three': 0.4221394727710326, 'dropout_cnn_block_two': 0.40597838209725606, 'dropout_dense_block_one': 0.32121705044424415, 'dropout_dense_block_two': 0.51509938135965}\n",
            "accuracy=0.9526076912879944\n",
            "{'batch_size': 120.0, 'dropout_cnn_block_one': 0.39990028407298217, 'dropout_cnn_block_three': 0.32780276712094397, 'dropout_cnn_block_two': 0.32274671998936, 'dropout_dense_block_one': 0.539483908738649, 'dropout_dense_block_two': 0.38692328084787525}\n",
            "accuracy=0.960544228553772\n",
            "{'batch_size': 150.0, 'dropout_cnn_block_one': 0.3268562875126721, 'dropout_cnn_block_three': 0.38302187205329347, 'dropout_cnn_block_two': 0.4000752398598315, 'dropout_dense_block_one': 0.6263714528559501, 'dropout_dense_block_two': 0.35835210803180606}\n",
            "accuracy=0.9580498933792114\n",
            "{'batch_size': 100.0, 'dropout_cnn_block_one': 0.30338459178461247, 'dropout_cnn_block_three': 0.43343333443427395, 'dropout_cnn_block_two': 0.30027788946083417, 'dropout_dense_block_one': 0.5031841935567303, 'dropout_dense_block_two': 0.3107457682596694}\n",
            "accuracy=0.9546485543251038\n",
            "{'batch_size': 200.0, 'dropout_cnn_block_one': 0.41114910281985506, 'dropout_cnn_block_three': 0.446952635326396, 'dropout_cnn_block_two': 0.3528819366006585, 'dropout_dense_block_one': 0.38389490237559565, 'dropout_dense_block_two': 0.5510356764256807}\n",
            "accuracy=0.9263038635253906\n",
            "{'batch_size': 160.0, 'dropout_cnn_block_one': 0.41982459440437114, 'dropout_cnn_block_three': 0.3546402684488603, 'dropout_cnn_block_two': 0.34301938145996363, 'dropout_dense_block_one': 0.6971196452072441, 'dropout_dense_block_two': 0.3943913639791813}\n",
            "accuracy=0.94399094581604\n",
            "{'batch_size': 110.0, 'dropout_cnn_block_one': 0.38934571972015347, 'dropout_cnn_block_three': 0.4971800405515188, 'dropout_cnn_block_two': 0.301636283846096, 'dropout_dense_block_one': 0.5702178852421181, 'dropout_dense_block_two': 0.332775854511254}\n",
            "accuracy=0.9446712136268616\n",
            "{'batch_size': 140.0, 'dropout_cnn_block_one': 0.42726930244321426, 'dropout_cnn_block_three': 0.30324914516168555, 'dropout_cnn_block_two': 0.3414755898023506, 'dropout_dense_block_one': 0.6948823053187668, 'dropout_dense_block_two': 0.4029494792132472}\n",
            "accuracy=0.9335600733757019\n",
            "{'batch_size': 200.0, 'dropout_cnn_block_one': 0.38064223995441304, 'dropout_cnn_block_three': 0.44878906493679144, 'dropout_cnn_block_two': 0.3784580677320235, 'dropout_dense_block_one': 0.42437256385752514, 'dropout_dense_block_two': 0.5537999699748342}\n",
            "accuracy=0.8455782532691956\n",
            "{'batch_size': 160.0, 'dropout_cnn_block_one': 0.3048011685555456, 'dropout_cnn_block_three': 0.3030873039309913, 'dropout_cnn_block_two': 0.30111778018721325, 'dropout_dense_block_one': 0.48744191941101844, 'dropout_dense_block_two': 0.41950757952676165}\n",
            "accuracy=0.9585034251213074\n",
            "{'batch_size': 130.0, 'dropout_cnn_block_one': 0.34762605648238687, 'dropout_cnn_block_three': 0.3657783811278216, 'dropout_cnn_block_two': 0.4669695198022699, 'dropout_dense_block_one': 0.5262245295107651, 'dropout_dense_block_two': 0.3579023996787745}\n",
            "accuracy=0.9396825432777405\n",
            "{'batch_size': 110.0, 'dropout_cnn_block_one': 0.43632648161495785, 'dropout_cnn_block_three': 0.3426436024227467, 'dropout_cnn_block_two': 0.3381806123099478, 'dropout_dense_block_one': 0.4510397456891681, 'dropout_dense_block_two': 0.5377409070998361}\n",
            "accuracy=0.9469387531280518\n",
            "{'batch_size': 130.0, 'dropout_cnn_block_one': 0.3881532666001562, 'dropout_cnn_block_three': 0.4470743490518082, 'dropout_cnn_block_two': 0.44486805857493916, 'dropout_dense_block_one': 0.3669578177795655, 'dropout_dense_block_two': 0.33221683681142805}\n",
            "accuracy=0.9281179308891296\n",
            "100%|██████████| 30/30 [05:26<00:00, 10.88s/it, best loss: -0.9741496443748474]\n"
          ],
          "name": "stdout"
        }
      ]
    },
    {
      "cell_type": "code",
      "metadata": {
        "id": "zUWS_ga_XVr2",
        "colab_type": "code",
        "colab": {}
      },
      "source": [
        ""
      ],
      "execution_count": 0,
      "outputs": []
    }
  ]
}